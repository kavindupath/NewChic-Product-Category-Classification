{
  "nbformat": 4,
  "nbformat_minor": 0,
  "metadata": {
    "colab": {
      "provenance": [],
      "toc_visible": true
    },
    "kernelspec": {
      "name": "python3",
      "display_name": "Python 3"
    },
    "language_info": {
      "name": "python"
    }
  },
  "cells": [
    {
      "cell_type": "code",
      "source": [
        "from sklearn.model_selection import StratifiedKFold\n",
        "from sklearn.naive_bayes import GaussianNB\n",
        "from sklearn.naive_bayes import MultinomialNB\n",
        "from sklearn.metrics import accuracy_score\n",
        "import numpy as np\n",
        "import pandas as pd\n",
        "\n",
        "# Load the dataset\n",
        "file_path = '/content/combined_newchic_data.csv'\n",
        "dataset = pd.read_csv(file_path)\n",
        "\n",
        "# Display the first few rows of the dataset\n",
        "dataset.head(), dataset.columns"
      ],
      "metadata": {
        "colab": {
          "base_uri": "https://localhost:8080/"
        },
        "id": "wTlunUBZQw7A",
        "outputId": "64f9c26a-1c7a-494b-e3dc-0ed6e3ec9e37"
      },
      "execution_count": null,
      "outputs": [
        {
          "output_type": "execute_result",
          "data": {
            "text/plain": [
              "(  category         subcategory  current_price  raw_price  discount  \\\n",
              " 0    house       Outdoor Tools           0.22       0.18      0.29   \n",
              " 1    house       Outdoor Tools           0.21       0.25      0.67   \n",
              " 2    house  Dessert Decorators           0.36       0.36      0.48   \n",
              " 3    house      Desktop Holder           0.07       0.08      0.67   \n",
              " 4    house       Outdoor Tools           0.68       0.83      0.67   \n",
              " \n",
              "    likes_count  is_new  \n",
              " 0         0.14       0  \n",
              " 1         0.33       0  \n",
              " 2         0.31       0  \n",
              " 3         0.42       0  \n",
              " 4         0.12       0  ,\n",
              " Index(['category', 'subcategory', 'current_price', 'raw_price', 'discount',\n",
              "        'likes_count', 'is_new'],\n",
              "       dtype='object'))"
            ]
          },
          "metadata": {},
          "execution_count": 39
        }
      ]
    },
    {
      "cell_type": "code",
      "source": [
        "# Define features (X) and target (y)\n",
        "X = dataset[['current_price', 'raw_price', 'discount', 'likes_count', 'is_new']]\n",
        "y = dataset['category']"
      ],
      "metadata": {
        "id": "LGxYyayJQ9UJ"
      },
      "execution_count": null,
      "outputs": []
    },
    {
      "cell_type": "markdown",
      "source": [
        "# Naive Bayes"
      ],
      "metadata": {
        "id": "t4sgUzPy_wJS"
      }
    },
    {
      "cell_type": "code",
      "source": [
        "# Initialize StratifiedKFold and Naive Bayes model\n",
        "skf = StratifiedKFold(n_splits=5, shuffle=True, random_state=42)\n",
        "model = GaussianNB()"
      ],
      "metadata": {
        "id": "4qbykX1kRPUf"
      },
      "execution_count": null,
      "outputs": []
    },
    {
      "cell_type": "code",
      "source": [
        "# To store the accuracy of each fold\n",
        "accuracies = []"
      ],
      "metadata": {
        "id": "LMyCW0Z9RR8s"
      },
      "execution_count": null,
      "outputs": []
    },
    {
      "cell_type": "code",
      "source": [
        "# Perform Stratified K-Fold cross-validation\n",
        "for train_index, test_index in skf.split(X, y):\n",
        "    X_train, X_test = X.iloc[train_index], X.iloc[test_index]\n",
        "    y_train, y_test = y.iloc[train_index], y.iloc[test_index]\n",
        "\n",
        "    # Train the model\n",
        "    model.fit(X_train, y_train)\n",
        "\n",
        "    # Predict on the test set\n",
        "    y_pred = model.predict(X_test)\n",
        "\n",
        "    # Calculate accuracy\n",
        "    accuracy = accuracy_score(y_test, y_pred)\n",
        "    accuracies.append(accuracy)"
      ],
      "metadata": {
        "id": "D_5HPGgiRUzc"
      },
      "execution_count": null,
      "outputs": []
    },
    {
      "cell_type": "code",
      "source": [
        "# Average accuracy across all folds\n",
        "average_accuracy = np.mean(accuracies)\n",
        "average_accuracy\n",
        "\n",
        "from sklearn.metrics import classification_report\n",
        "print(classification_report(y_test, y_pred))"
      ],
      "metadata": {
        "colab": {
          "base_uri": "https://localhost:8080/"
        },
        "id": "NWBW8Q7ZRX4A",
        "outputId": "b81593a9-3a8f-442a-cc88-b1b657d3b8da"
      },
      "execution_count": null,
      "outputs": [
        {
          "output_type": "stream",
          "name": "stdout",
          "text": [
            "              precision    recall  f1-score   support\n",
            "\n",
            " accessories       0.44      0.50      0.47      1414\n",
            "        bags       0.25      0.28      0.27      1268\n",
            "      beauty       0.21      0.21      0.21       760\n",
            "       house       0.50      0.50      0.50      2609\n",
            "     jewelry       0.35      0.33      0.34       970\n",
            "        kids       0.40      0.39      0.40       929\n",
            "       shoes       0.57      0.52      0.54      2232\n",
            "\n",
            "    accuracy                           0.43     10182\n",
            "   macro avg       0.39      0.39      0.39     10182\n",
            "weighted avg       0.43      0.43      0.43     10182\n",
            "\n"
          ]
        }
      ]
    },
    {
      "cell_type": "code",
      "source": [
        "# Applying 10-Fold Cross Validation\n",
        "\n",
        "from sklearn.model_selection import cross_val_score\n",
        "\n",
        "scores = cross_val_score(model, X_train, y_train, cv = 10, scoring='accuracy')\n",
        "\n",
        "print('Cross-validation scores:{}'.format(scores))"
      ],
      "metadata": {
        "colab": {
          "base_uri": "https://localhost:8080/"
        },
        "id": "RAgFSyrD2fO_",
        "outputId": "b25ffb64-9316-431e-de28-a48940c6c0be"
      },
      "execution_count": null,
      "outputs": [
        {
          "output_type": "stream",
          "name": "stdout",
          "text": [
            "Cross-validation scores:[0.36693944 0.37250409 0.35482815 0.36661211 0.35363458 0.37000655\n",
            " 0.37426326 0.3745907  0.36738703 0.36771447]\n"
          ]
        }
      ]
    },
    {
      "cell_type": "code",
      "source": [
        "print('Average cross-validation score: {:.4f}'.format(scores.mean()))\n"
      ],
      "metadata": {
        "colab": {
          "base_uri": "https://localhost:8080/"
        },
        "id": "HM8xpjMD21rv",
        "outputId": "44e4ac14-9a28-4a63-9467-5ce85df1d80c"
      },
      "execution_count": null,
      "outputs": [
        {
          "output_type": "stream",
          "name": "stdout",
          "text": [
            "Average cross-validation score: 0.3668\n"
          ]
        }
      ]
    },
    {
      "cell_type": "markdown",
      "source": [
        "# Decision Tree"
      ],
      "metadata": {
        "id": "sxpJix0JASqA"
      }
    },
    {
      "cell_type": "code",
      "source": [
        "from sklearn.tree import DecisionTreeClassifier\n",
        "from sklearn.model_selection import train_test_split\n",
        "from sklearn import metrics\n",
        "X_train, X_test, y_train, y_test = train_test_split(X, y,\n",
        "random_state=42)\n",
        "print(\"X_train shape: {}\".format(X_train.shape))\n",
        "print(\"y_train shape: {}\".format(y_train.shape))\n",
        "print(\"X_test shape: {}\".format(X_test.shape))\n",
        "print(\"y_test shape: {}\".format(y_test.shape))"
      ],
      "metadata": {
        "colab": {
          "base_uri": "https://localhost:8080/"
        },
        "id": "8m1HIZodATTd",
        "outputId": "edb433a3-dab4-4db6-9346-8af6f8c482f4"
      },
      "execution_count": null,
      "outputs": [
        {
          "output_type": "stream",
          "name": "stdout",
          "text": [
            "X_train shape: (30544, 5)\n",
            "y_train shape: (30544,)\n",
            "X_test shape: (10182, 5)\n",
            "y_test shape: (10182,)\n"
          ]
        }
      ]
    },
    {
      "cell_type": "code",
      "source": [
        "# Train a decision tree model for classification\n",
        "clf_default = DecisionTreeClassifier(random_state=42)\n",
        "clf_default.fit(X_train, y_train)\n"
      ],
      "metadata": {
        "colab": {
          "base_uri": "https://localhost:8080/",
          "height": 74
        },
        "id": "2kkC2kojAv0v",
        "outputId": "597c5257-db8f-4baa-a31f-4eaa020b6622"
      },
      "execution_count": null,
      "outputs": [
        {
          "output_type": "execute_result",
          "data": {
            "text/plain": [
              "DecisionTreeClassifier(random_state=42)"
            ],
            "text/html": [
              "<style>#sk-container-id-1 {color: black;}#sk-container-id-1 pre{padding: 0;}#sk-container-id-1 div.sk-toggleable {background-color: white;}#sk-container-id-1 label.sk-toggleable__label {cursor: pointer;display: block;width: 100%;margin-bottom: 0;padding: 0.3em;box-sizing: border-box;text-align: center;}#sk-container-id-1 label.sk-toggleable__label-arrow:before {content: \"▸\";float: left;margin-right: 0.25em;color: #696969;}#sk-container-id-1 label.sk-toggleable__label-arrow:hover:before {color: black;}#sk-container-id-1 div.sk-estimator:hover label.sk-toggleable__label-arrow:before {color: black;}#sk-container-id-1 div.sk-toggleable__content {max-height: 0;max-width: 0;overflow: hidden;text-align: left;background-color: #f0f8ff;}#sk-container-id-1 div.sk-toggleable__content pre {margin: 0.2em;color: black;border-radius: 0.25em;background-color: #f0f8ff;}#sk-container-id-1 input.sk-toggleable__control:checked~div.sk-toggleable__content {max-height: 200px;max-width: 100%;overflow: auto;}#sk-container-id-1 input.sk-toggleable__control:checked~label.sk-toggleable__label-arrow:before {content: \"▾\";}#sk-container-id-1 div.sk-estimator input.sk-toggleable__control:checked~label.sk-toggleable__label {background-color: #d4ebff;}#sk-container-id-1 div.sk-label input.sk-toggleable__control:checked~label.sk-toggleable__label {background-color: #d4ebff;}#sk-container-id-1 input.sk-hidden--visually {border: 0;clip: rect(1px 1px 1px 1px);clip: rect(1px, 1px, 1px, 1px);height: 1px;margin: -1px;overflow: hidden;padding: 0;position: absolute;width: 1px;}#sk-container-id-1 div.sk-estimator {font-family: monospace;background-color: #f0f8ff;border: 1px dotted black;border-radius: 0.25em;box-sizing: border-box;margin-bottom: 0.5em;}#sk-container-id-1 div.sk-estimator:hover {background-color: #d4ebff;}#sk-container-id-1 div.sk-parallel-item::after {content: \"\";width: 100%;border-bottom: 1px solid gray;flex-grow: 1;}#sk-container-id-1 div.sk-label:hover label.sk-toggleable__label {background-color: #d4ebff;}#sk-container-id-1 div.sk-serial::before {content: \"\";position: absolute;border-left: 1px solid gray;box-sizing: border-box;top: 0;bottom: 0;left: 50%;z-index: 0;}#sk-container-id-1 div.sk-serial {display: flex;flex-direction: column;align-items: center;background-color: white;padding-right: 0.2em;padding-left: 0.2em;position: relative;}#sk-container-id-1 div.sk-item {position: relative;z-index: 1;}#sk-container-id-1 div.sk-parallel {display: flex;align-items: stretch;justify-content: center;background-color: white;position: relative;}#sk-container-id-1 div.sk-item::before, #sk-container-id-1 div.sk-parallel-item::before {content: \"\";position: absolute;border-left: 1px solid gray;box-sizing: border-box;top: 0;bottom: 0;left: 50%;z-index: -1;}#sk-container-id-1 div.sk-parallel-item {display: flex;flex-direction: column;z-index: 1;position: relative;background-color: white;}#sk-container-id-1 div.sk-parallel-item:first-child::after {align-self: flex-end;width: 50%;}#sk-container-id-1 div.sk-parallel-item:last-child::after {align-self: flex-start;width: 50%;}#sk-container-id-1 div.sk-parallel-item:only-child::after {width: 0;}#sk-container-id-1 div.sk-dashed-wrapped {border: 1px dashed gray;margin: 0 0.4em 0.5em 0.4em;box-sizing: border-box;padding-bottom: 0.4em;background-color: white;}#sk-container-id-1 div.sk-label label {font-family: monospace;font-weight: bold;display: inline-block;line-height: 1.2em;}#sk-container-id-1 div.sk-label-container {text-align: center;}#sk-container-id-1 div.sk-container {/* jupyter's `normalize.less` sets `[hidden] { display: none; }` but bootstrap.min.css set `[hidden] { display: none !important; }` so we also need the `!important` here to be able to override the default hidden behavior on the sphinx rendered scikit-learn.org. See: https://github.com/scikit-learn/scikit-learn/issues/21755 */display: inline-block !important;position: relative;}#sk-container-id-1 div.sk-text-repr-fallback {display: none;}</style><div id=\"sk-container-id-1\" class=\"sk-top-container\"><div class=\"sk-text-repr-fallback\"><pre>DecisionTreeClassifier(random_state=42)</pre><b>In a Jupyter environment, please rerun this cell to show the HTML representation or trust the notebook. <br />On GitHub, the HTML representation is unable to render, please try loading this page with nbviewer.org.</b></div><div class=\"sk-container\" hidden><div class=\"sk-item\"><div class=\"sk-estimator sk-toggleable\"><input class=\"sk-toggleable__control sk-hidden--visually\" id=\"sk-estimator-id-1\" type=\"checkbox\" checked><label for=\"sk-estimator-id-1\" class=\"sk-toggleable__label sk-toggleable__label-arrow\">DecisionTreeClassifier</label><div class=\"sk-toggleable__content\"><pre>DecisionTreeClassifier(random_state=42)</pre></div></div></div></div></div>"
            ]
          },
          "metadata": {},
          "execution_count": 33
        }
      ]
    },
    {
      "cell_type": "code",
      "source": [
        "# Evaluate the trained model with the testing data\n",
        "y_pred = clf_default.predict(X_test)\n",
        "# The prediction accuracy\n",
        "accuracy = accuracy_score(y_pred, y_test)\n",
        "print('The testing accuracy is: %.4f\\n' % accuracy)"
      ],
      "metadata": {
        "colab": {
          "base_uri": "https://localhost:8080/"
        },
        "id": "iP-00e2PBRFI",
        "outputId": "87ef02fe-6a69-4c08-b945-a42ba78d95e8"
      },
      "execution_count": null,
      "outputs": [
        {
          "output_type": "stream",
          "name": "stdout",
          "text": [
            "The testing accuracy is: 0.4272\n",
            "\n"
          ]
        }
      ]
    },
    {
      "cell_type": "code",
      "source": [
        "# Show the importance for each feature\n",
        "print(\"Feature importances:\\n{}\".format(clf_default.feature_importances_))"
      ],
      "metadata": {
        "colab": {
          "base_uri": "https://localhost:8080/"
        },
        "id": "aaDZpa5EBbpA",
        "outputId": "6612540c-947a-4399-c1eb-a45bee42cdf6"
      },
      "execution_count": null,
      "outputs": [
        {
          "output_type": "stream",
          "name": "stdout",
          "text": [
            "Feature importances:\n",
            "[0.1548231  0.26621873 0.18391344 0.38862214 0.00642259]\n"
          ]
        }
      ]
    },
    {
      "cell_type": "code",
      "source": [
        "# For each criterion, we use 10-fold cross validation to report the testing accuracy.\n",
        "from sklearn.model_selection import train_test_split,cross_val_score, KFold, GridSearchCV\n",
        "cv_scores = []\n",
        "cv_scores_std = []\n",
        "splitting_criteria = ['gini', 'entropy']\n",
        "for i in splitting_criteria:\n",
        " clf_dtc = DecisionTreeClassifier(criterion=i, random_state=42)\n",
        " scores = cross_val_score(clf_dtc, X, y, scoring='accuracy', cv=KFold(n_splits=10, shuffle=True, random_state=42))\n",
        " cv_scores.append(scores.mean())\n",
        "cv_scores_std.append(scores.std())\n",
        "# Plot the relationship\n",
        "plt.bar(splitting_criteria, cv_scores, yerr=cv_scores_std,\n",
        "label='Accuracy')\n",
        "plt.xlabel('Criterion')\n",
        "plt.ylim([0, 1])\n",
        "plt.ylabel('Accuracy')\n",
        "plt.legend(loc='best')\n",
        "plt.show()"
      ],
      "metadata": {
        "colab": {
          "base_uri": "https://localhost:8080/",
          "height": 455
        },
        "id": "dBBXqZOWBhjQ",
        "outputId": "7b9ffd16-1ebd-40b9-8c2e-58a7ae32d87a"
      },
      "execution_count": null,
      "outputs": [
        {
          "output_type": "display_data",
          "data": {
            "text/plain": [
              "<Figure size 640x480 with 1 Axes>"
            ],
            "image/png": "[encoded data removed]"
          },
          "metadata": {}
        }
      ]
    },
    {
      "cell_type": "code",
      "source": [
        "# For each tree depth, we use 10-fold cross validation to report the testing accuracy.\n",
        "cv_scores = []\n",
        "cv_scores_std = []\n",
        "depths = range(1, 21)\n",
        "for i in depths:\n",
        " clf_dtc = DecisionTreeClassifier(max_depth=i, random_state=42)\n",
        " scores = cross_val_score(clf_dtc, X, y, scoring='accuracy', cv=KFold(n_splits=10, shuffle=True, random_state=42))\n",
        " cv_scores.append(scores.mean())\n",
        "cv_scores_std.append(scores.std())\n",
        "# Plot the relationship\n",
        "plt.errorbar(depths, cv_scores, yerr=cv_scores_std,\n",
        "marker='x', label='Accuracy')\n",
        "plt.xlabel('Tree depth')\n",
        "plt.xticks(np.arange(0, 21, step=2))\n",
        "plt.ylim(0.4, 0.9)\n",
        "plt.ylabel('Accuracy')\n",
        "plt.legend(loc='best')\n",
        "plt.show()"
      ],
      "metadata": {
        "colab": {
          "base_uri": "https://localhost:8080/",
          "height": 455
        },
        "id": "GUmPs7LfCDpv",
        "outputId": "7022af18-f8bd-482b-c553-2d440c59bbb7"
      },
      "execution_count": null,
      "outputs": [
        {
          "output_type": "display_data",
          "data": {
            "text/plain": [
              "<Figure size 640x480 with 1 Axes>"
            ],
            "image/png": "[encoded data removed]"
          },
          "metadata": {}
        }
      ]
    },
    {
      "cell_type": "markdown",
      "source": [
        "# New Section"
      ],
      "metadata": {
        "id": "rP35X-vnCw5u"
      }
    },
    {
      "cell_type": "code",
      "source": [],
      "metadata": {
        "id": "6YLjdKW3CyL6"
      },
      "execution_count": null,
      "outputs": []
    }
  ]
}